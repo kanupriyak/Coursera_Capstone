{
 "cells": [
  {
   "cell_type": "markdown",
   "metadata": {},
   "source": [
    "##Introduction\n",
    "\n",
    "Being a technology hub, Toronto is one of the most sought after places for arranging technical conferences. To be able to host perfect events, we will need to find best venues for stay and meeting halls. It will also be beneficial to add places to visit (landmarks) and to eat for people attending a conference to wind-down later. \n",
    "Data from foursquare seems to be one of the most convenient methods to understand venues and locations, and will be helpful in zeroing in a location.\n",
    "\n",
    "I would like to work on this problem to assist the planning agencies in and around Toronto to excel in their work."
   ]
  },
  {
   "cell_type": "code",
   "execution_count": null,
   "metadata": {},
   "outputs": [],
   "source": []
  }
 ],
 "metadata": {
  "kernelspec": {
   "display_name": "Python",
   "language": "python",
   "name": "conda-env-python-py"
  },
  "language_info": {
   "codemirror_mode": {
    "name": "ipython",
    "version": 3
   },
   "file_extension": ".py",
   "mimetype": "text/x-python",
   "name": "python",
   "nbconvert_exporter": "python",
   "pygments_lexer": "ipython3",
   "version": "3.6.10"
  }
 },
 "nbformat": 4,
 "nbformat_minor": 4
}
